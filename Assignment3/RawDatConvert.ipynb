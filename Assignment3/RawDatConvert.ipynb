{
 "metadata": {
  "language_info": {
   "codemirror_mode": {
    "name": "ipython",
    "version": 3
   },
   "file_extension": ".py",
   "mimetype": "text/x-python",
   "name": "python",
   "nbconvert_exporter": "python",
   "pygments_lexer": "ipython3",
   "version": "3.7.4-final"
  },
  "orig_nbformat": 2,
  "kernelspec": {
   "name": "python3",
   "display_name": "Python 3.7.4 64-bit (conda)",
   "metadata": {
    "interpreter": {
     "hash": "b3ba2566441a7c06988d0923437866b63cedc61552a5af99d1f4fb67d367b25f"
    }
   }
  }
 },
 "nbformat": 4,
 "nbformat_minor": 2,
 "cells": [
  {
   "source": [
    "# Convert .dat to .raw\n"
   ],
   "cell_type": "markdown",
   "metadata": {}
  },
  {
   "cell_type": "code",
   "execution_count": 33,
   "metadata": {},
   "outputs": [],
   "source": [
    "#files\n",
    "import os\n",
    "stagdat208 = 'stagbeetle208x208x123.dat'\n",
    "stagdat832 = 'stagbeetle832x832x494.dat'"
   ]
  },
  {
   "cell_type": "code",
   "execution_count": 42,
   "metadata": {},
   "outputs": [],
   "source": [
    "counter = 0\n",
    "#os.remove('small_2.raw')\n",
    "dest = open('small_2.raw','ab')\n",
    "with open(stagdat208, \"rb\") as f:\n",
    "    byte = f.read(1)\n",
    "    while byte:\n",
    "        if (counter >= 6): \n",
    "           dest.write(byte)\n",
    "        counter = counter + 1\n",
    "        byte = f.read(1)        \n",
    "dest.close()"
   ]
  },
  {
   "cell_type": "code",
   "execution_count": 43,
   "metadata": {},
   "outputs": [],
   "source": [
    "counter = 0\n",
    "#os.remove('small_2.raw')\n",
    "dest = open('large_2.raw','ab')\n",
    "with open(stagdat832, \"rb\") as f:\n",
    "    byte = f.read(1)\n",
    "    while byte:\n",
    "        if (counter >= 6): \n",
    "           dest.write(byte)\n",
    "        counter = counter + 1\n",
    "        byte = f.read(1)        \n",
    "dest.close()"
   ]
  }
 ]
}