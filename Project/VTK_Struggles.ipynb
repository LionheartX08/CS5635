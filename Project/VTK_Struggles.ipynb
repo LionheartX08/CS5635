{
 "metadata": {
  "language_info": {
   "codemirror_mode": {
    "name": "ipython",
    "version": 3
   },
   "file_extension": ".py",
   "mimetype": "text/x-python",
   "name": "python",
   "nbconvert_exporter": "python",
   "pygments_lexer": "ipython3",
   "version": "3.7.4"
  },
  "orig_nbformat": 2,
  "kernelspec": {
   "name": "python374jvsc74a57bd0b3ba2566441a7c06988d0923437866b63cedc61552a5af99d1f4fb67d367b25f",
   "display_name": "Python 3.7.4 64-bit ('base': conda)"
  }
 },
 "nbformat": 4,
 "nbformat_minor": 2,
 "cells": [
  {
   "cell_type": "code",
   "execution_count": 1,
   "metadata": {},
   "outputs": [],
   "source": [
    "#pip install vtk"
   ]
  },
  {
   "cell_type": "code",
   "execution_count": 13,
   "metadata": {},
   "outputs": [],
   "source": [
    "import vtk\n",
    "import numpy as np\n",
    "from vtk.numpy_interface import dataset_adapter as dsa\n",
    "clams_nabro_path = 'data/CLaMS_Nabro.vtk'\n",
    "clams_puyehue_path = 'data/CLaMS_Puyehue.vtk'"
   ]
  },
  {
   "cell_type": "code",
   "execution_count": 20,
   "metadata": {},
   "outputs": [
    {
     "output_type": "stream",
     "name": "stdout",
     "text": [
      "None\n"
     ]
    }
   ],
   "source": [
    "reader = vtk.vtkPolyDataReader()\n",
    "reader.SetFileName(clams_puyehue_path)\n",
    "reader.ReadAllScalarsOn()\n",
    "reader.ReadAllVectorsOn()\n",
    "reader.Update()\n",
    "polydata = reader.GetOutput()\n",
    "polydata_wrapper = dsa.WrapDataObject(polydata)\n",
    "nparr = polydata_wrapper.Points\n",
    "print(nparr)"
   ]
  },
  {
   "cell_type": "code",
   "execution_count": 18,
   "metadata": {},
   "outputs": [
    {
     "output_type": "execute_result",
     "data": {
      "text/plain": [
       "<vtk.numpy_interface.dataset_adapter.DataSetAttributes at 0x1c8dfb9f6c8>"
      ]
     },
     "metadata": {},
     "execution_count": 18
    }
   ],
   "source": [
    "points = polydata_wrapper.GetPointData()\n",
    "cells = polydata_wrapper.GetCellData()\n",
    "\n",
    "cells"
   ]
  },
  {
   "cell_type": "code",
   "execution_count": 8,
   "metadata": {},
   "outputs": [
    {
     "output_type": "execute_result",
     "data": {
      "text/plain": [
       "0"
      ]
     },
     "metadata": {},
     "execution_count": 8
    }
   ],
   "source": [
    "lines = polydata_wrapper.GetFieldData()\n",
    "lines.GetNumberOfTuples()\n",
    "\n"
   ]
  },
  {
   "cell_type": "code",
   "execution_count": null,
   "metadata": {},
   "outputs": [],
   "source": []
  }
 ]
}